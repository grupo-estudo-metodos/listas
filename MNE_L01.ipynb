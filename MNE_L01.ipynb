{
 "cells": [
  {
   "cell_type": "markdown",
   "metadata": {},
   "source": [
    "# Lista de Exercícios 01\n",
    "\n",
    "Métodos Numéricos para Engenharia - Turma C  \n",
    "Nome: Vinícius Bandeira de Siqueira  \n",
    "Matrícula: 110155491"
   ]
  },
  {
   "cell_type": "markdown",
   "metadata": {},
   "source": [
    "Observações:\n",
    "\n",
    "0. A lista de exercícios deve ser entregue no moodle da disciplina.\n",
    "0. A lista de exercícios deve ser respondida neste único arquivo (.ipynb). Responda a cada questão na célula imediatamente abaixo do seu enunciado.\n",
    "0. Não se esqueça de alterar o nome do arquivo e o cabeçalho acima, colocando seu nome e matrícula.\n",
    "0. A lista é uma atividade avaliativa e individual. Não será tolerado qualquer tipo de plágio."
   ]
  },
  {
   "cell_type": "code",
   "execution_count": 1,
   "metadata": {
    "collapsed": false
   },
   "outputs": [
    {
     "name": "stdout",
     "output_type": "stream",
     "text": [
      "Populating the interactive namespace from numpy and matplotlib\n"
     ]
    }
   ],
   "source": [
    "# Deixe-me incluir o conjunto de módulos do Python científico para você.\n",
    "%pylab inline"
   ]
  },
  {
   "cell_type": "markdown",
   "metadata": {},
   "source": [
    "---\n",
    "\n",
    "## Questão 01\n",
    "\n",
    "(Fonte: Problema 1015 do URI Online Judge) Leia quatro valores correspondentes aos eixos $x$ e $y$ de dois\n",
    "pontos quaisquer no plano: ($x_1$,$y_1$) e ($x_2$,$y_2$) e calcule a distância ($D$) entre eles, mostrando-a com 4 casas decimais após a vírgula, segundo a fórmula:\n",
    "\n",
    "$$ D = \\sqrt{(x_2 - x_1)^2 + (y_2 - y_1)^2} $$\n",
    "\n",
    "### Entrada\n",
    "\n",
    "O arquivo de entrada contém duas linhas de dados. A primeira linha contém dois valores de ponto flutuante: $x_1$ e $y_1$ e a segunda linha contém dois valores de ponto flutuante $x_2$ e $y_2$.\n",
    "\n",
    "### Saída\n",
    "\n",
    "Calcule e imprima o valor da distância segundo a fórmula fornecida, com 4 casas após o ponto decimal.\n",
    "\n",
    "#### Entrada de Teste\n",
    "1.0 7.0  \n",
    "5.0 9.0\n",
    "\n",
    "#### Saída de Teste\n",
    "4.4721"
   ]
  },
  {
   "cell_type": "code",
   "execution_count": 11,
   "metadata": {
    "collapsed": false
   },
   "outputs": [
    {
     "name": "stdout",
     "output_type": "stream",
     "text": [
      "1.0 7.0\n",
      "5.0 9.0\n",
      "16.0\n",
      "4.4721\n"
     ]
    }
   ],
   "source": [
    "import math \n",
    "\n",
    "x1, y1 = input().split(\" \")\n",
    "x2, y2 = input().split(\" \")\n",
    "\n",
    "x1 = float(x1)\n",
    "x2 = float(x2)\n",
    "y1 = float(y1)\n",
    "y2 = float(y2)\n",
    "\n",
    "\n",
    "x = pow(x2-x1,2)\n",
    "print(x)\n",
    "y = pow(y2-y1,2)\n",
    "\n",
    "print(\"%.4f\"% math.sqrt(x+y))"
   ]
  },
  {
   "cell_type": "markdown",
   "metadata": {
    "collapsed": true
   },
   "source": [
    "---\n",
    "\n",
    "## Questão 02\n",
    "\n",
    "(Fonte: Problema 1037 do URI Online Judge) Você deve fazer um programa que leia um valor qualquer e apresente uma mensagem dizendo em qual dos seguintes intervalos ($[0,25]$, $(25,50]$, $(50,75]$, $(75,100]$) este valor se encontra. Obviamente se o valor não estiver em nenhum destes intervalos, deverá ser impressa a mensagem “Fora de intervalo”.\n",
    "\n",
    "### Entrada\n",
    "\n",
    "O arquivo de entrada contém um número com ponto flutuante qualquer.\n",
    "\n",
    "### Saída\n",
    "\n",
    "A saída deve ser uma mensagem conforme exemplo abaixo.\n",
    "\n",
    "#### Entradas de Teste\n",
    "25.01\n",
    "\n",
    "#### Saídas de Teste\n",
    "Intervalo (25,50]"
   ]
  },
  {
   "cell_type": "code",
   "execution_count": 3,
   "metadata": {
    "collapsed": false
   },
   "outputs": [
    {
     "name": "stdout",
     "output_type": "stream",
     "text": [
      "25.0001\n",
      "Intervalo (25,50]\n"
     ]
    }
   ],
   "source": [
    "v = float(input())\n",
    "print(\"Intervalo \", end=\"\")\n",
    "if(v>0.0 and v<=25.0):\n",
    "    print(\"[0,25]\")\n",
    "elif(v>25.0 and v<=50.0):\n",
    "    print(\"(25,50]\")\n",
    "elif(v>50.0 and v<=75.0):\n",
    "    print(\"(50,75]\")\n",
    "elif(v>75.0 and v<=100.0):\n",
    "    print(\"(75,100]\")\n",
    "else:\n",
    "    print(\"Fora de intervalo\")\n"
   ]
  },
  {
   "cell_type": "markdown",
   "metadata": {},
   "source": [
    "---\n",
    "\n",
    "## Questão 03\n",
    "\n",
    "(Fonte: Problema 1037 do URI Online Judge, adaptado) Leia $N$ valores inteiros. Apresente então o maior valor lido e a posição dentre os $N$ valores lidos.\n",
    "\n",
    "### Entrada\n",
    "\n",
    "A primeira linha do arquivo de entrada contém um inteiro positivo $N$ que indica a quantidade de números a serem lidos. As próximas $N$ linhas contém um número inteiro positivo cada.\n",
    "\n",
    "### Saída\n",
    "\n",
    "Apresente o maior valor lido e a posição de entrada, conforme exemplo abaixo.\n",
    "\n",
    "#### Entrada de Teste\n",
    "3  \n",
    "34565  \n",
    "1341  \n",
    "45\n",
    "\n",
    "#### Saída de Teste\n",
    "34565  \n",
    "1"
   ]
  },
  {
   "cell_type": "code",
   "execution_count": 14,
   "metadata": {
    "collapsed": false
   },
   "outputs": [
    {
     "name": "stdout",
     "output_type": "stream",
     "text": [
      "3\n",
      "231232321\n",
      "21\n",
      "41\n",
      "231232321\n",
      "1\n"
     ]
    }
   ],
   "source": [
    "n = int(input())\n",
    "\n",
    "max = 0\n",
    "idx = 0\n",
    "for i in range(n):\n",
    "    aux = int(input())\n",
    "    if aux > max:\n",
    "        max = aux\n",
    "        idx = i+1\n",
    "\n",
    "print(max)\n",
    "print(idx)"
   ]
  },
  {
   "cell_type": "markdown",
   "metadata": {},
   "source": [
    "---\n",
    "\n",
    "## Questão 04\n",
    "\n",
    "Dada uma string, verifique se ela é um palíndromo ou não. Palíndromos são strings lidas iguais, tanto de frente\n",
    "para trás quanto de trás para frente. Exemplos: \"ovo\", \"subi no onibus\", \"somos\", \"aaa\".\n",
    "\n",
    "### Entrada\n",
    "\n",
    "A entrada consiste de uma única string contendo apenas caracteres alfabéticos minúsculos e sem acentos.\n",
    "\n",
    "### Saída\n",
    "\n",
    "Imprima \"Palindromo encontrado\" caso a string seja um palíndromo ou \"Palindromo nao encontrado\", caso contrário.\n",
    "\n",
    "#### Entrada de Teste\n",
    "ovo\n",
    "\n",
    "#### Saída de Teste\n",
    "Palindromo encontrado"
   ]
  },
  {
   "cell_type": "code",
   "execution_count": 20,
   "metadata": {
    "collapsed": false
   },
   "outputs": [
    {
     "name": "stdout",
     "output_type": "stream",
     "text": [
      "subi no onibus\n",
      "Palindromo encontrado\n"
     ]
    }
   ],
   "source": [
    "s = input()\n",
    "s = s.replace(\" \", \"\")\n",
    "if s == s[::-1]:\n",
    "    print(\"Palindromo encontrado\")\n",
    "else:\n",
    "    print(\"Palindromo nao encontrado\")"
   ]
  },
  {
   "cell_type": "markdown",
   "metadata": {},
   "source": [
    "---\n",
    "\n",
    "## Questão 05\n",
    "\n",
    "Iniciando a utilização do módulo _numpy_. Resolva os exercícios abaixo."
   ]
  },
  {
   "cell_type": "markdown",
   "metadata": {},
   "source": [
    "**5.1.** Defina uma variável $x$ e atribua algum valor numérico a ela. Compute os valores de $x^2$ e $x^3$."
   ]
  },
  {
   "cell_type": "code",
   "execution_count": 4,
   "metadata": {
    "collapsed": false
   },
   "outputs": [
    {
     "name": "stdout",
     "output_type": "stream",
     "text": [
      "7\n",
      "49\n",
      "343\n"
     ]
    }
   ],
   "source": [
    "import numpy as np\n",
    "\n",
    "x = 7\n",
    "x2 = np.power(x, 2)\n",
    "x3 = np.power(x, 3)\n",
    "\n",
    "print(x)\n",
    "print(x2)\n",
    "print(x3)\n"
   ]
  },
  {
   "cell_type": "markdown",
   "metadata": {},
   "source": [
    "**5.2.** Defina um ângulo ($0 \\leq \\theta \\leq 2\\pi$) e atribua-o a uma variável $angle$. Compute os valores de $sin(\\theta)$ e $cos(\\theta)$ em radianos."
   ]
  },
  {
   "cell_type": "code",
   "execution_count": 5,
   "metadata": {
    "collapsed": false
   },
   "outputs": [
    {
     "name": "stdout",
     "output_type": "stream",
     "text": [
      "0.016813900484349713\n",
      "0.9998586363834151\n"
     ]
    }
   ],
   "source": [
    "angle = 6.3\n",
    "sin = np.sin(angle)\n",
    "cos = np.cos(angle)\n",
    "print(sin)\n",
    "print(cos)"
   ]
  },
  {
   "cell_type": "markdown",
   "metadata": {},
   "source": [
    "**5.3.** Utilizando a função `linspace()`, crie um vetor $X$ com 500 elementos linearmente espaçados entre 0 e 10. Imprima o valor do 87º elemento do vetor $X$."
   ]
  },
  {
   "cell_type": "code",
   "execution_count": 28,
   "metadata": {
    "collapsed": false
   },
   "outputs": [
    {
     "name": "stdout",
     "output_type": "stream",
     "text": [
      "1.723446893787575\n"
     ]
    }
   ],
   "source": [
    "X = np.linspace(0, 10, num=500)\n",
    "print(X[86])"
   ]
  },
  {
   "cell_type": "markdown",
   "metadata": {},
   "source": [
    "**5.4.** Crie um vetor $V$ com 50 elementos ${V_0, V_1, ..., V_{49}}$. Onde cada elemento $V_i = i^2$."
   ]
  },
  {
   "cell_type": "code",
   "execution_count": 7,
   "metadata": {
    "collapsed": false
   },
   "outputs": [
    {
     "name": "stdout",
     "output_type": "stream",
     "text": [
      "0\n",
      "1\n",
      "4\n",
      "9\n",
      "16\n",
      "25\n",
      "36\n",
      "49\n",
      "64\n",
      "81\n",
      "100\n",
      "121\n",
      "144\n",
      "169\n",
      "196\n",
      "225\n",
      "256\n",
      "289\n",
      "324\n",
      "361\n",
      "400\n",
      "441\n",
      "484\n",
      "529\n",
      "576\n",
      "625\n",
      "676\n",
      "729\n",
      "784\n",
      "841\n",
      "900\n",
      "961\n",
      "1024\n",
      "1089\n",
      "1156\n",
      "1225\n",
      "1296\n",
      "1369\n",
      "1444\n",
      "1521\n",
      "1600\n",
      "1681\n",
      "1764\n",
      "1849\n",
      "1936\n",
      "2025\n",
      "2116\n",
      "2209\n",
      "2304\n",
      "2401\n"
     ]
    }
   ],
   "source": [
    "v = np.array(range(50))\n",
    "v = np.power(v, 2)\n",
    "\n",
    "for i in range(len(v)):\n",
    "    print(v[i])"
   ]
  },
  {
   "cell_type": "markdown",
   "metadata": {},
   "source": [
    "**5.5.** Defina o seguinte vetor e a seguinte matriz:  \n",
    "`V = np.array([5., 8., 13.])`  \n",
    "`M = np.array([[1., 3., 2.], [10., 5., 8.], [13., 21., 34.]])`  \n",
    "Em seguida, mostre os seus respectivos formatos com a função `shape()`."
   ]
  },
  {
   "cell_type": "code",
   "execution_count": 21,
   "metadata": {
    "collapsed": false
   },
   "outputs": [
    {
     "name": "stdout",
     "output_type": "stream",
     "text": [
      "(3,)\n",
      "(3, 3)\n"
     ]
    }
   ],
   "source": [
    "V = np.array([5., 8., 13.])\n",
    "M = np.array([[1., 3., 2.], [10., 5., 8.], [13., 21., 34.]])\n",
    "print(np.shape(V))\n",
    "print(np.shape(M))"
   ]
  },
  {
   "cell_type": "markdown",
   "metadata": {},
   "source": [
    "**5.6.** Multiplique o vetor `V` por uma constante e o imprima utilizando a função `print()`."
   ]
  },
  {
   "cell_type": "code",
   "execution_count": 14,
   "metadata": {
    "collapsed": false
   },
   "outputs": [
    {
     "name": "stdout",
     "output_type": "stream",
     "text": [
      "[ 5.  8. 13.]\n",
      "[10. 16. 26.]\n"
     ]
    }
   ],
   "source": [
    "print(V)\n",
    "V = V*2\n",
    "print(V)"
   ]
  },
  {
   "cell_type": "markdown",
   "metadata": {},
   "source": [
    "**5.7.** Crie um segundo vetor $U$, tal que: $U_i = cos(V_i)$."
   ]
  },
  {
   "cell_type": "code",
   "execution_count": 15,
   "metadata": {
    "collapsed": false
   },
   "outputs": [
    {
     "name": "stdout",
     "output_type": "stream",
     "text": [
      "[-0.83907153 -0.95765948  0.64691932]\n"
     ]
    }
   ],
   "source": [
    "U = np.cos(V)\n",
    "print(U)"
   ]
  },
  {
   "cell_type": "markdown",
   "metadata": {},
   "source": [
    "**5.8.** Crie um terceiro vetor $R$, tal que $R$ seja alguma combinação linear dos vetores $U$ e $V$. Em seguida, imprima o vetor $R$."
   ]
  },
  {
   "cell_type": "code",
   "execution_count": 16,
   "metadata": {
    "collapsed": false
   },
   "outputs": [
    {
     "name": "stdout",
     "output_type": "stream",
     "text": [
      "[ -8.39071529 -15.32255169  16.81990238]\n"
     ]
    }
   ],
   "source": [
    "R = U*V\n",
    "print(R)"
   ]
  },
  {
   "cell_type": "markdown",
   "metadata": {},
   "source": [
    "**5.9** Utilize a função `dot()` para realizar a multiplicação matricial entre a matriz $M$ e o vetor $V$ e guarde o resultado no vetor $U$."
   ]
  },
  {
   "cell_type": "code",
   "execution_count": 17,
   "metadata": {
    "collapsed": false
   },
   "outputs": [
    {
     "name": "stdout",
     "output_type": "stream",
     "text": [
      "[ 110.  388. 1350.]\n"
     ]
    }
   ],
   "source": [
    "U = np.dot(M, V)\n",
    "print(U)"
   ]
  },
  {
   "cell_type": "markdown",
   "metadata": {},
   "source": [
    "**5.10** Compute e imprima os valores da transposta, inversa e determinante da matriz $M$."
   ]
  },
  {
   "cell_type": "code",
   "execution_count": 22,
   "metadata": {
    "collapsed": false
   },
   "outputs": [
    {
     "name": "stdout",
     "output_type": "stream",
     "text": [
      "[[ 1. 10. 13.]\n",
      " [ 3.  5. 21.]\n",
      " [ 2.  8. 34.]]\n",
      "[[-0.00480769  0.14423077 -0.03365385]\n",
      " [ 0.56730769 -0.01923077 -0.02884615]\n",
      " [-0.34855769 -0.04326923  0.06009615]]\n",
      "-416.0\n"
     ]
    }
   ],
   "source": [
    "print(M.T)\n",
    "print(np.linalg.inv(M))\n",
    "print(np.linalg.det(M))"
   ]
  },
  {
   "cell_type": "markdown",
   "metadata": {},
   "source": [
    "**5.11.** Encontre o menor elemento da matriz $M$."
   ]
  },
  {
   "cell_type": "code",
   "execution_count": 26,
   "metadata": {
    "collapsed": false
   },
   "outputs": [
    {
     "name": "stdout",
     "output_type": "stream",
     "text": [
      "1.0\n"
     ]
    }
   ],
   "source": [
    "print(M.min())"
   ]
  },
  {
   "cell_type": "markdown",
   "metadata": {},
   "source": [
    "**5.12.** A função `np.random.random` pode ser usada para criar vetores e matrizes de números aleatórios. Utilize tal função para criar uma matriz 5x5."
   ]
  },
  {
   "cell_type": "code",
   "execution_count": 30,
   "metadata": {
    "collapsed": false
   },
   "outputs": [
    {
     "name": "stdout",
     "output_type": "stream",
     "text": [
      "[[0.32547439 0.21574161 0.30294207 0.44377696 0.59753188]\n",
      " [0.97869173 0.1459007  0.70511124 0.40240571 0.0535917 ]\n",
      " [0.17109379 0.92901908 0.14433987 0.88855189 0.04191048]\n",
      " [0.91830681 0.16475397 0.38561287 0.65899776 0.74417558]\n",
      " [0.85362866 0.86288951 0.64357039 0.13240334 0.74340345]]\n"
     ]
    }
   ],
   "source": [
    "R = np.random.random((5,5))\n",
    "print(R)"
   ]
  },
  {
   "cell_type": "markdown",
   "metadata": {},
   "source": [
    "---\n",
    "\n",
    "## Questão 06\n",
    "\n",
    "Iniciando a utilização do módulo _matplotlib_. Resolva os exercícios abaixo."
   ]
  },
  {
   "cell_type": "markdown",
   "metadata": {},
   "source": [
    "**6.1.** Redefina a variável $X$ da questão 5.3 e confeccione o gráfico $Y = sin(X)$."
   ]
  },
  {
   "cell_type": "code",
   "execution_count": 32,
   "metadata": {
    "collapsed": false
   },
   "outputs": [
    {
     "data": {
      "text/plain": [
       "<function matplotlib.pyplot.show>"
      ]
     },
     "execution_count": 32,
     "metadata": {},
     "output_type": "execute_result"
    },
    {
     "data": {
      "image/png": "[encoded data removed]",
      "text/plain": [
       "<Figure size 432x288 with 1 Axes>"
      ]
     },
     "metadata": {},
     "output_type": "display_data"
    }
   ],
   "source": [
    "import numpy as np\n",
    "import matplotlib.pyplot as plt\n",
    "%matplotlib inline\n",
    "\n",
    "X = np.linspace(0, 10, num=500)\n",
    "Y = np.sin(X)\n",
    "\n",
    "plt.plot(X,Y)\n",
    "plt.show"
   ]
  },
  {
   "cell_type": "markdown",
   "metadata": {},
   "source": [
    "**6.2.** Utilize a função `plt.plot()` para confeccionar o gráfico com as funções $f(x) = xe^{-x}$ e $g(x) = sin(\\pi x)e^{-x}$ no intervalo $[0, 10]$. Dê um título à imagem, legendas às funções $f$ e $g$ e rótulos aos eixos $x$ e $y$."
   ]
  },
  {
   "cell_type": "code",
   "execution_count": 37,
   "metadata": {
    "collapsed": false
   },
   "outputs": [
    {
     "data": {
      "text/plain": [
       "<function matplotlib.pyplot.show>"
      ]
     },
     "execution_count": 37,
     "metadata": {},
     "output_type": "execute_result"
    },
    {
     "data": {
      "image/png": "[encoded data removed]",
      "text/plain": [
       "<Figure size 432x288 with 1 Axes>"
      ]
     },
     "metadata": {},
     "output_type": "display_data"
    }
   ],
   "source": [
    "X = np.linspace(0, 10, num=500)\n",
    "F = X*np.exp(-X)\n",
    "G = np.sin(np.pi*X)*np.exp(-X)\n",
    "\n",
    "\n",
    "plt.plot(X, F)\n",
    "plt.plot(X, G)\n",
    "\n",
    "plt.title('Gráfico exercício 6.2')\n",
    "plt.xlabel('eixo x')\n",
    "plt.ylabel('eixo y')\n",
    "plt.legend(['$f(x) = xe^{-x}$', '$g(x) = sin(\\pi x)e^{-x}$'])\n",
    "\n",
    "plt.show"
   ]
  },
  {
   "cell_type": "markdown",
   "metadata": {},
   "source": [
    "**6.3.** Utilize a função `plt.subplot()` para confeccionar dois gráficos, um ao lado do outro. O primeiro gráfico deve conter a função $f(x) = \\frac{sin(x)}{x}$, e o segundo, a função $g(x) = \\frac{cos(x)}{x}$, ambos no intervalo $[1, 5]$. Dê um título às imagens, legendas às funções $f$ e $g$ e rótulos aos eixos $x$ e $y$."
   ]
  },
  {
   "cell_type": "code",
   "execution_count": 59,
   "metadata": {
    "collapsed": false
   },
   "outputs": [
    {
     "data": {
      "image/png": "[encoded data removed]",
      "text/plain": [
       "<Figure size 432x288 with 2 Axes>"
      ]
     },
     "metadata": {},
     "output_type": "display_data"
    }
   ],
   "source": [
    "\n",
    "X = np.linspace(1, 5, 100)\n",
    "F = np.sin(X) / X\n",
    "G = np.cos(X) / X\n",
    "\n",
    "plt.subplot(1, 2, 1)\n",
    "plt.title(\"F(X)\")\n",
    "plt.plot(X,F)\n",
    "plt.legend([\"$f(x) = {cos(x)}/{x}$\"])\n",
    "plt.xlabel('eixo x')\n",
    "plt.ylabel('eixo y')\n",
    "plt.grid()\n",
    "\n",
    "plt.subplot(1, 2, 2)\n",
    "plt.title(\"G(X)\")\n",
    "plt.plot(X,G)\n",
    "plt.legend([\"$g(x) = {sin(x)}/{x}$\"])\n",
    "plt.xlabel('eixo x')\n",
    "plt.ylabel('eixo y')\n",
    "plt.grid()\n"
   ]
  },
  {
   "cell_type": "code",
   "execution_count": null,
   "metadata": {
    "collapsed": true
   },
   "outputs": [],
   "source": []
  }
 ],
 "metadata": {
  "kernelspec": {
   "display_name": "Python 3",
   "language": "python",
   "name": "python3"
  },
  "language_info": {
   "codemirror_mode": {
    "name": "ipython",
    "version": 3
   },
   "file_extension": ".py",
   "mimetype": "text/x-python",
   "name": "python",
   "nbconvert_exporter": "python",
   "pygments_lexer": "ipython3",
   "version": "3.6.3"
  }
 },
 "nbformat": 4,
 "nbformat_minor": 2
}
